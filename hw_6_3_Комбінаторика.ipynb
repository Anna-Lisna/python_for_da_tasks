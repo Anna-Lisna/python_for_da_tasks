{
 "cells": [
  {
   "cell_type": "code",
   "execution_count": 1,
   "id": "be905976-61a7-4da2-8890-4549a51415fa",
   "metadata": {},
   "outputs": [],
   "source": [
    "import math"
   ]
  },
  {
   "cell_type": "markdown",
   "id": "cf64ef9a-d8ff-4f48-947e-214bfd1d8eb8",
   "metadata": {},
   "source": [
    "1. Скільки різних паролів можна скласти, використовуючи три літери англійського алфавіту, якщо літери не повинні повторюватися?"
   ]
  },
  {
   "cell_type": "code",
   "execution_count": 2,
   "id": "bde41b10-9c04-4acf-83ef-47338a18e019",
   "metadata": {},
   "outputs": [
    {
     "data": {
      "text/plain": [
       "'6 паролів можна скласти, використовуючи три літери англійського алфавіту'"
      ]
     },
     "execution_count": 2,
     "metadata": {},
     "output_type": "execute_result"
    }
   ],
   "source": [
    "letters = 3\n",
    "amount_passwords = math.factorial(letters)\n",
    "f\"{amount_passwords} паролів можна скласти, використовуючи три літери англійського алфавіту\""
   ]
  },
  {
   "cell_type": "markdown",
   "id": "8906b8f6-68b5-4214-9c30-5daebcbd6650",
   "metadata": {},
   "source": [
    "2. Є група з 8 людей. Скількома способами можна обрати комітет із 3 осіб?"
   ]
  },
  {
   "cell_type": "code",
   "execution_count": 3,
   "id": "45248a17-e349-4d59-b8a3-dd5f39c78407",
   "metadata": {},
   "outputs": [
    {
     "name": "stdout",
     "output_type": "stream",
     "text": [
      "336.0 способами можна обрати комітет із 3 осіб, якщо кожна посада має різне значення, \n",
      "56.0 способами можна обрати комітет із 3 осіб, коли всі члени мають рівні права\n"
     ]
    }
   ],
   "source": [
    "people = 8\n",
    "places = 3\n",
    "\n",
    "methods_with_position = math.factorial(people) / math.factorial(people - places)\n",
    "methods_without_position = math.factorial(people) / (math.factorial(people - places) * math.factorial(places))\n",
    "\n",
    "print(f\"{methods_with_position} способами можна обрати комітет із 3 осіб, якщо кожна посада має різне значення, \\n{methods_without_position} способами можна обрати комітет із 3 осіб, коли всі члени мають рівні права\")"
   ]
  },
  {
   "cell_type": "markdown",
   "id": "fc151f41-8dfc-4dd1-9b5f-92167b57c4a9",
   "metadata": {},
   "source": [
    "3. Скількома різними способами можна розташувати на полиці 5 різних книг?"
   ]
  },
  {
   "cell_type": "code",
   "execution_count": 4,
   "id": "496f4072-c570-4aa3-bd2b-5e6d2b833c83",
   "metadata": {},
   "outputs": [
    {
     "data": {
      "text/plain": [
       "'120 способами можна розташувати на полиці 5 різних книг'"
      ]
     },
     "execution_count": 4,
     "metadata": {},
     "output_type": "execute_result"
    }
   ],
   "source": [
    "books = 5\n",
    "amount_methods = math.factorial(books)\n",
    "\n",
    "f\"{amount_methods} способами можна розташувати на полиці 5 різних книг\""
   ]
  },
  {
   "cell_type": "markdown",
   "id": "374d4086-1301-45d2-983a-47b55fb95813",
   "metadata": {},
   "source": [
    "4. В урні знаходяться 4 червоні, 3 сині і 2 зелені кулі. Скількома способами можна витягти 3 кулі, якщо вони повинні бути різних кольорів?"
   ]
  },
  {
   "cell_type": "code",
   "execution_count": 5,
   "id": "3923e783-dcbe-485a-9973-b0a7a8be3110",
   "metadata": {},
   "outputs": [
    {
     "data": {
      "text/plain": [
       "'24 способами можна витягти 3 кулі, якщо вони повинні бути різних кольорів'"
      ]
     },
     "execution_count": 5,
     "metadata": {},
     "output_type": "execute_result"
    }
   ],
   "source": [
    "red = 4\n",
    "blue = 3\n",
    "green = 2\n",
    "\n",
    "amount_methods = red * blue * green\n",
    "f\"{amount_methods} способами можна витягти 3 кулі, якщо вони повинні бути різних кольорів\""
   ]
  }
 ],
 "metadata": {
  "kernelspec": {
   "display_name": "Python 3 (ipykernel)",
   "language": "python",
   "name": "python3"
  },
  "language_info": {
   "codemirror_mode": {
    "name": "ipython",
    "version": 3
   },
   "file_extension": ".py",
   "mimetype": "text/x-python",
   "name": "python",
   "nbconvert_exporter": "python",
   "pygments_lexer": "ipython3",
   "version": "3.12.4"
  }
 },
 "nbformat": 4,
 "nbformat_minor": 5
}
