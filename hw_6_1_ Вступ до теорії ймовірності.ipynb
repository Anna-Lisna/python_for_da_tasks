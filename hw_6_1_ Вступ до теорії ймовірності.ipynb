{
 "cells": [
  {
   "cell_type": "markdown",
   "id": "d414e5fc-55d5-4926-ba37-cdf8422720fa",
   "metadata": {},
   "source": [
    "1. Ви —  продакт менеджер в компанії, яка займається мобільними додатками. Ваша модель монетизації — підписка. У травні 2019 року до вас приєдналося 100 підписників, у червні — 150, у липні — 170. Скільки ці користувачі принесли вам до травня 2021 року включно, якщо щомісячний рівень відтоку становить 5%, а підписка коштує $10?"
   ]
  },
  {
   "cell_type": "code",
   "execution_count": 10,
   "id": "b632c2c0-a585-49c6-bd04-0e1baed9e3dd",
   "metadata": {},
   "outputs": [
    {
     "data": {
      "text/plain": [
       "'Дохід, котрий принесли користувачі з травня 2019 року по травень 2021: 59242.40$'"
      ]
     },
     "execution_count": 10,
     "metadata": {},
     "output_type": "execute_result"
    }
   ],
   "source": [
    "may_2019 = 100\n",
    "month_from_may_2019 = 25\n",
    "\n",
    "jun_2019 = 150\n",
    "month_from_jun_2019 = 24\n",
    "\n",
    "jul_2019 = 170\n",
    "month_from_jul_2019 = 23\n",
    "\n",
    "customer_churn = 1 - 0.05\n",
    "price = 10\n",
    "\n",
    "income_from_may_2019 = may_2019 * price * (1 - customer_churn ** month_from_may_2019)/(1 - customer_churn)\n",
    "income_from_jun_2019 = jun_2019 * price * (1 - customer_churn ** month_from_jun_2019)/(1 - customer_churn)\n",
    "income_from_jul_2019 = jul_2019 * price * (1 - customer_churn ** month_from_jul_2019)/(1 - customer_churn)\n",
    "total_income = income_from_may_2019 + income_from_jun_2019 + income_from_jul_2019\n",
    "\n",
    "f'Дохід, котрий принесли користувачі з травня 2019 року по травень 2021: {total_income:.2f}$'"
   ]
  },
  {
   "cell_type": "markdown",
   "id": "13f3b536-17b8-4ba9-9c98-22ea4852a554",
   "metadata": {},
   "source": [
    "2. Ви — менеджер по роботі з продуктом в компанії, яка розробляє мобільні ігри. Вашою метою є збільшення кількості активних користувачів. У січні 2020 року у вас було 2000 активних користувачів. З лютого кількість активних користувачів щомісяця зростає на 3%. У той же час, 2% користувачів щомісяця перестають користуватися додатком. Якою буде кількість активних користувачів за весь період від січня 2020 року до кінця грудня 2021 року?"
   ]
  },
  {
   "cell_type": "code",
   "execution_count": 14,
   "id": "b18a4740-6483-489f-8011-102f3b6e499c",
   "metadata": {},
   "outputs": [
    {
     "data": {
      "text/plain": [
       "'Кількість активних користувачів за весь період від січня 2020 року до кінця грудня 2021 року: 53947'"
      ]
     },
     "execution_count": 14,
     "metadata": {},
     "output_type": "execute_result"
    }
   ],
   "source": [
    "amount_users_jan_2020 = 2000\n",
    "users_churn = 0.02\n",
    "users_growth = 0.03\n",
    "users_variable = 1 + users_growth - users_churn\n",
    "period = 24\n",
    "\n",
    "total_users = amount_users_jan_2020 * (1 - users_variable ** period) / (1 - users_variable)\n",
    "total_users\n",
    "f'Кількість активних користувачів за весь період від січня 2020 року до кінця грудня 2021 року: {round(total_users)}'"
   ]
  },
  {
   "cell_type": "markdown",
   "id": "c3a836a8-4b23-43cc-b300-04eae04a7969",
   "metadata": {},
   "source": [
    "3. Ви — менеджер з розвитку бізнесу в компанії, що займається створенням платформи для онлайн-курсів. У січні 2021 року ви залучили 500 нових користувачів. У лютому кількість нових користувачів зросла на 50%, у березні — ще на 20%. З квітня приріст нових користувачів стабілізувався на рівні 10% щомісяця.Скільки активних користувачів ви мали загалом за перше півріччя 2021 року?"
   ]
  },
  {
   "cell_type": "code",
   "execution_count": 21,
   "id": "d8dcd67c-4c5f-418f-ab8a-e2b8eb2200dd",
   "metadata": {},
   "outputs": [
    {
     "data": {
      "text/plain": [
       "'Активних користувачів було загалом за перше півріччя 2021 року: 5427'"
      ]
     },
     "execution_count": 21,
     "metadata": {},
     "output_type": "execute_result"
    }
   ],
   "source": [
    "jan_2021_users = 500\n",
    "feb_2021_users = jan_2021_users * 1.5\n",
    "mar_apr_may_jun_2021_users = (feb_2021_users * 1.2) * (1 - 1.1 ** 4) / (1 - 1.1)\n",
    "total_users = jan_2021_users + feb_2021_users + mar_apr_may_jun_2021_users\n",
    "\n",
    "f'Активних користувачів було загалом за перше півріччя 2021 року: {round(total_users)}'"
   ]
  }
 ],
 "metadata": {
  "kernelspec": {
   "display_name": "Python 3 (ipykernel)",
   "language": "python",
   "name": "python3"
  },
  "language_info": {
   "codemirror_mode": {
    "name": "ipython",
    "version": 3
   },
   "file_extension": ".py",
   "mimetype": "text/x-python",
   "name": "python",
   "nbconvert_exporter": "python",
   "pygments_lexer": "ipython3",
   "version": "3.12.4"
  }
 },
 "nbformat": 4,
 "nbformat_minor": 5
}
