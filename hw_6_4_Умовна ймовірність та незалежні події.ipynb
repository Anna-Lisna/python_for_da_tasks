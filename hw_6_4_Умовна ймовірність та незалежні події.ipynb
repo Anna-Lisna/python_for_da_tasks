{
 "cells": [
  {
   "cell_type": "markdown",
   "id": "0db16635-68d7-4d56-9cf0-14cb0266aa6a",
   "metadata": {},
   "source": [
    "1. З колоди у 52 карти випадково витягується одна карта. Яка ймовірність того, що це туз, якщо відомо, що ця карта — пікова?"
   ]
  },
  {
   "cell_type": "code",
   "execution_count": 4,
   "id": "a5c78970-cd73-4139-a84c-6728da72216c",
   "metadata": {},
   "outputs": [
    {
     "data": {
      "text/plain": [
       "'0.08 - ймовірність того, що витягнута одна карта буде туз, якщо відомо, що ця карта — пікова'"
      ]
     },
     "execution_count": 4,
     "metadata": {},
     "output_type": "execute_result"
    }
   ],
   "source": [
    "all_cards = 52\n",
    "aces = 4\n",
    "spades = 13\n",
    "p_of_A = aces/all_cards #ймовірність, що карта буде тузом\n",
    "p_of_B = spades/all_cards #ймовірність, що карта буде пікою\n",
    "p_of_intersection_A_B = 1/all_cards #ймовірність, перетину подій\n",
    "p_of_conditional_A_B = p_of_intersection_A_B / p_of_B\n",
    "\n",
    "f\"{p_of_conditional_A_B:.2f} - ймовірність того, що витягнута одна карта буде туз, якщо відомо, що ця карта — пікова\""
   ]
  },
  {
   "cell_type": "markdown",
   "id": "6fd826b0-b3b5-4f8e-81c1-a334ca35bab7",
   "metadata": {},
   "source": [
    "2. У групі з 30 студентів є 18 хлопців і 12 дівчат. Відомо, що 7 хлопців і 5 дівчат носять окуляри. Випадково обраний студент носить окуляри. Яка ймовірність того, що цей студент — дівчина?"
   ]
  },
  {
   "cell_type": "code",
   "execution_count": 6,
   "id": "0005e194-b83d-4e9a-abc5-e22c28d2b39f",
   "metadata": {},
   "outputs": [
    {
     "data": {
      "text/plain": [
       "'0.42 - ймовірність того, що випадково обраний студент носить окуляри і є дівчиною'"
      ]
     },
     "execution_count": 6,
     "metadata": {},
     "output_type": "execute_result"
    }
   ],
   "source": [
    "# А - студент носить окуляри\n",
    "# В - студент є дівчиною\n",
    "all_students = 30\n",
    "boys = 18\n",
    "girls = 12\n",
    "boys_with_glasses = 7\n",
    "girls_with_glasses = 5\n",
    "\n",
    "p_of_A = (boys_with_glasses + girls_with_glasses) / all_students\n",
    "p_of_B = girls / all_students\n",
    "p_of_intersection_A_B = girls_with_glasses / all_students\n",
    "p_of_conditional_A_B = p_of_intersection_A_B / p_of_B\n",
    "f\"{p_of_conditional_A_B:.2f} - ймовірність того, що випадково обраний студент носить окуляри і є дівчиною\""
   ]
  },
  {
   "cell_type": "markdown",
   "id": "3b17f754-8426-4a81-bf39-1c88264754d3",
   "metadata": {},
   "source": [
    "3. У конверті знаходяться 10 лотерейних білетів, серед яких 3 виграшних. З конверта послідовно витягуються білети. Знайти ймовірності того, що:\n",
    "    \n",
    "    а) 2-й витягнутий білет буде виграшним, якщо 1-й був виграшним;\n",
    "    б) 3-й буде виграшним, якщо попередні два білети були виграшними;\n",
    "    в) 4-й буде виграшним, якщо попередні білети були виграшними."
   ]
  },
  {
   "cell_type": "code",
   "execution_count": 7,
   "id": "8427c08b-0b89-42dc-9e88-f13ce6cfa2b3",
   "metadata": {},
   "outputs": [],
   "source": [
    "all_lottery_tickets = 10\n",
    "winning_tickets = 3"
   ]
  },
  {
   "cell_type": "code",
   "execution_count": 10,
   "id": "eea6ee60-360e-4b3b-8b91-675bffc9b8ae",
   "metadata": {},
   "outputs": [
    {
     "data": {
      "text/plain": [
       "'0.22 - ймовірність того, що 2-й витягнутий білет буде виграшним, якщо 1-й був виграшним'"
      ]
     },
     "execution_count": 10,
     "metadata": {},
     "output_type": "execute_result"
    }
   ],
   "source": [
    "p_of_A = (winning_tickets - 1) / (all_lottery_tickets - 1) # так як вже витягнули один квиток і він був виграшним, відповідно, кількість квитків і виграшних квитків зменшилось на 1\n",
    "f\"{p_of_A:.2f} - ймовірність того, що 2-й витягнутий білет буде виграшним, якщо 1-й був виграшним\""
   ]
  },
  {
   "cell_type": "code",
   "execution_count": 11,
   "id": "5db8f6d6-dcf0-4af0-84b3-42ac7d8f438a",
   "metadata": {},
   "outputs": [
    {
     "data": {
      "text/plain": [
       "'0.12 - 3-й буде виграшним, якщо попередні два білети були виграшними'"
      ]
     },
     "execution_count": 11,
     "metadata": {},
     "output_type": "execute_result"
    }
   ],
   "source": [
    "p_of_A = (winning_tickets - 2) / (all_lottery_tickets - 2) # так як вже витягнули два квитки і вони були виграшними, відповідно, кількість квитків і виграшних квитків зменшилось на 2\n",
    "f\"{p_of_A:.2f} - 3-й буде виграшним, якщо попередні два білети були виграшними\""
   ]
  },
  {
   "cell_type": "code",
   "execution_count": 12,
   "id": "effe5339-68bb-47cf-a1b0-109ced74c143",
   "metadata": {},
   "outputs": [
    {
     "data": {
      "text/plain": [
       "'0.00 - 4-й буде виграшним, якщо попередні білети були виграшними'"
      ]
     },
     "execution_count": 12,
     "metadata": {},
     "output_type": "execute_result"
    }
   ],
   "source": [
    "p_of_A = (winning_tickets - 3) / (all_lottery_tickets - 3) # так як вже витягнули 3 квитки і вони були виграшними, відповідно, кількість квитків і виграшних квитків зменшилось на 3\n",
    "f\"{p_of_A:.2f} - 4-й буде виграшним, якщо попередні білети були виграшними\""
   ]
  }
 ],
 "metadata": {
  "kernelspec": {
   "display_name": "Python 3 (ipykernel)",
   "language": "python",
   "name": "python3"
  },
  "language_info": {
   "codemirror_mode": {
    "name": "ipython",
    "version": 3
   },
   "file_extension": ".py",
   "mimetype": "text/x-python",
   "name": "python",
   "nbconvert_exporter": "python",
   "pygments_lexer": "ipython3",
   "version": "3.12.4"
  }
 },
 "nbformat": 4,
 "nbformat_minor": 5
}
