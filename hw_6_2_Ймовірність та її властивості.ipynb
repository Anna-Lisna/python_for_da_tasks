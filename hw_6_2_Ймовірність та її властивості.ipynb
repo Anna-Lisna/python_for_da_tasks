{
 "cells": [
  {
   "cell_type": "markdown",
   "id": "d11cffc6-e041-44d3-9c76-545969802b45",
   "metadata": {},
   "source": [
    "1. В урні знаходиться 15 білих, 5 червоних і 10 чорних куль. Випадковим чином витягується 1 куля, знайти ймовірність того, що вона буде: а) білою, б) червоною, в) чорною."
   ]
  },
  {
   "cell_type": "code",
   "execution_count": 1,
   "id": "e6a47610-e837-41bc-80a8-926fa1150a6a",
   "metadata": {},
   "outputs": [
    {
     "data": {
      "text/plain": [
       "'Ймовірність того, що витягнута куля буде: а) білою - 0.5, б) червоною 0.17, в) чорною 0.33'"
      ]
     },
     "execution_count": 1,
     "metadata": {},
     "output_type": "execute_result"
    }
   ],
   "source": [
    "white = 15\n",
    "red = 5\n",
    "black = 10\n",
    "all_balls = white + red + black\n",
    "\n",
    "p_of_white = white / all_balls\n",
    "p_of_red = red / all_balls\n",
    "p_of_black = black / all_balls\n",
    "\n",
    "f'Ймовірність того, що витягнута куля буде: а) білою - {p_of_white}, б) червоною {p_of_red:.2f}, в) чорною {p_of_black:.2f}'"
   ]
  },
  {
   "cell_type": "markdown",
   "id": "e627242f-ec17-4852-9213-538674aa08b4",
   "metadata": {},
   "source": [
    "2. В магазин надійшло 30 холодильників, п'ять з яких мають заводський дефект. Випадковим чином обирають один холодильник. Яка ймовірність того, що він буде без дефекту?"
   ]
  },
  {
   "cell_type": "code",
   "execution_count": 2,
   "id": "ba4dd25d-3fd5-42bb-8184-6fa5862aa314",
   "metadata": {},
   "outputs": [
    {
     "data": {
      "text/plain": [
       "'Ймовірність того, що обраний холодильник буде без дефекту - 0.83'"
      ]
     },
     "execution_count": 2,
     "metadata": {},
     "output_type": "execute_result"
    }
   ],
   "source": [
    "refrigerator = 30\n",
    "defect_refrigerator = 5\n",
    "\n",
    "p_refrigerator = (refrigerator - defect_refrigerator) / refrigerator\n",
    "\n",
    "f'Ймовірність того, що обраний холодильник буде без дефекту - {p_refrigerator:.2f}'"
   ]
  },
  {
   "cell_type": "markdown",
   "id": "7fbda632-faf3-4779-a8ce-7845047bc414",
   "metadata": {},
   "source": [
    "3. Набираючи номер телефону, абонент забув дві останні цифри, але пам'ятає, що одна з них — нуль, а інша — непарна. Знайти ймовірність того, що він набере правильний номер."
   ]
  },
  {
   "cell_type": "code",
   "execution_count": 3,
   "id": "d3a9150c-79db-4344-98ff-9d11e207265a",
   "metadata": {},
   "outputs": [
    {
     "data": {
      "text/plain": [
       "'Ймовірність того, що абонент набере правильний номер - 0.10'"
      ]
     },
     "execution_count": 3,
     "metadata": {},
     "output_type": "execute_result"
    }
   ],
   "source": [
    "A = 1 # цифра дорівнює 0\n",
    "B = 5 # цифра є непарною (1, 3, 5, 7, 9)\n",
    "all_numbers = 10\n",
    "\n",
    "p = (A / all_numbers) * (B / all_numbers) + (B / all_numbers) * (A / all_numbers)\n",
    "\n",
    "f'Ймовірність того, що абонент набере правильний номер - {p:.2f}'\n"
   ]
  },
  {
   "cell_type": "markdown",
   "id": "bf95ca84-9287-4e67-b7ee-ab5900d96794",
   "metadata": {},
   "source": [
    "4. Знайти ймовірність того, що при кидку двох гральних кубиків добуток чисел на них:\n",
    "    \n",
    "    а) дорівнюватиме семи;\n",
    "    б) буде не меншим за 20;\n",
    "    в) буде парним."
   ]
  },
  {
   "cell_type": "code",
   "execution_count": 4,
   "id": "56f01ae0-03b0-4e24-a314-92d6310c339a",
   "metadata": {},
   "outputs": [
    {
     "data": {
      "text/plain": [
       "'Ймовірність того, що при кидку двох гральних кубиків добуток чисел на них: а) дорівнюватиме семи - 0.0; б) буде не меншим за 20 - 0.17; в) буде парним - 0.75'"
      ]
     },
     "execution_count": 4,
     "metadata": {},
     "output_type": "execute_result"
    }
   ],
   "source": [
    "first_cube = [1, 2, 3, 4, 5, 6]\n",
    "secont_cube = [1, 2, 3, 4, 5, 6]\n",
    "all_opportunities = 6 * 6\n",
    "A = 0 # добуток чисел дорівнюватиме семи\n",
    "B = 0 # добуток чисел буде не меншим за 20\n",
    "C = 0 # добуток чисел буде парним\n",
    "\n",
    "for i in first_cube:\n",
    "    for j in secont_cube:\n",
    "        if i * j > 20:\n",
    "            B += 1\n",
    "\n",
    "for i in first_cube:\n",
    "    for j in secont_cube:\n",
    "        if (i * j) % 2 == 0:\n",
    "            C += 1\n",
    "\n",
    "p_of_A = A / all_opportunities\n",
    "p_of_B = B / all_opportunities\n",
    "p_of_C = C / all_opportunities\n",
    "\n",
    "f'Ймовірність того, що при кидку двох гральних кубиків добуток чисел на них: а) дорівнюватиме семи - {p_of_A}; б) буде не меншим за 20 - {p_of_B:.2f}; в) буде парним - {p_of_C:.2f}'"
   ]
  },
  {
   "cell_type": "markdown",
   "id": "ecfa6d64-42ef-45b1-9075-97bfe933f422",
   "metadata": {},
   "source": [
    "5. Ймовірність того, що на тесті з біології учень О. правильно розв'яже більше 11 задач, дорівнює 0,67. Ймовірність того, що О. правильно розв'яже більше 10 задач, дорівнює 0,74. Знайдіть ймовірність того, що О. правильно розв'яже рівно 11 задач."
   ]
  },
  {
   "cell_type": "code",
   "execution_count": 5,
   "id": "879d254f-6c81-4bc7-bd50-3184f4e265d3",
   "metadata": {},
   "outputs": [
    {
     "data": {
      "text/plain": [
       "\"Ймовірність того, що О. правильно розв'яже рівно 11 задач - 0.07\""
      ]
     },
     "execution_count": 5,
     "metadata": {},
     "output_type": "execute_result"
    }
   ],
   "source": [
    "A = 0.67 # правильно розв'яже більше 11 задач\n",
    "B = 0.74 # правильно розв'яже більше 10 задач\n",
    "\n",
    "p = B - A\n",
    "F\"Ймовірність того, що О. правильно розв'яже рівно 11 задач - {p:.2f}\""
   ]
  }
 ],
 "metadata": {
  "kernelspec": {
   "display_name": "Python 3 (ipykernel)",
   "language": "python",
   "name": "python3"
  },
  "language_info": {
   "codemirror_mode": {
    "name": "ipython",
    "version": 3
   },
   "file_extension": ".py",
   "mimetype": "text/x-python",
   "name": "python",
   "nbconvert_exporter": "python",
   "pygments_lexer": "ipython3",
   "version": "3.12.4"
  }
 },
 "nbformat": 4,
 "nbformat_minor": 5
}
